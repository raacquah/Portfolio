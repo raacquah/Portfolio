{
 "cells": [
  {
   "cell_type": "code",
   "execution_count": 3,
   "metadata": {},
   "outputs": [],
   "source": [
    "class staff:\n",
    "    def __init__(self, staffId, name, profession):\n",
    "        self.staffId = staffId\n",
    "        self.name = name\n",
    "        self.profession = profession\n",
    "\n",
    "    def info(self):\n",
    "        print({\"Staff ID: \": self.staffId, \"Name\": self.name,\"Profession:\": self.profession})\n",
    "\n",
    "class Medical(staff):\n",
    "    def __init__(self, staffId, name, profession, specialization):\n",
    "        super().__init__(staffId, name, profession)\n",
    "        \n",
    "        \n",
    "    def set_specialization(self, specialization):\n",
    "        self.specialization = specialization\n",
    "\n",
    "    def info(self):\n",
    "        print({\"Staff ID \":self.staffId, \"Name\": self.name, \"Profession\": self.profession , \"Specialization\": self.specialization})\n",
    "\n",
    "class NonMedical(staff):\n",
    "    def __init__(self, staffId, name, profession, department ):\n",
    "        super().__init__(staffId, name, profession)\n",
    "        self.departement = department\n",
    "\n",
    "    def info(self):\n",
    "        print({\"Staff ID\":self.staffId, \"Name\": self.name, \"Profession\": self.profession, \"Department\": self.department})\n",
    "    \n"
   ]
  },
  {
   "cell_type": "code",
   "execution_count": 4,
   "metadata": {},
   "outputs": [],
   "source": [
    "staff_1 = staff(\"001\", \"Catherine Boama\", \"Doctor\")"
   ]
  },
  {
   "cell_type": "code",
   "execution_count": 5,
   "metadata": {},
   "outputs": [
    {
     "data": {
      "text/plain": [
       "'Doctor'"
      ]
     },
     "execution_count": 5,
     "metadata": {},
     "output_type": "execute_result"
    }
   ],
   "source": [
    "staff_1.profession"
   ]
  },
  {
   "cell_type": "code",
   "execution_count": 6,
   "metadata": {
    "scrolled": true
   },
   "outputs": [
    {
     "name": "stdout",
     "output_type": "stream",
     "text": [
      "{'Staff ID: ': '001', 'Name': 'Catherine Boama', 'Profession:': 'Doctor'}\n"
     ]
    }
   ],
   "source": [
    "staff_1.info()"
   ]
  },
  {
   "cell_type": "code",
   "execution_count": 6,
   "metadata": {},
   "outputs": [
    {
     "ename": "AttributeError",
     "evalue": "'staff' object has no attribute 'set_specialization'",
     "output_type": "error",
     "traceback": [
      "\u001b[1;31m---------------------------------------------------------------------------\u001b[0m",
      "\u001b[1;31mAttributeError\u001b[0m                            Traceback (most recent call last)",
      "Cell \u001b[1;32mIn[6], line 1\u001b[0m\n\u001b[1;32m----> 1\u001b[0m \u001b[43mstaff_1\u001b[49m\u001b[38;5;241;43m.\u001b[39;49m\u001b[43mset_specialization\u001b[49m(\u001b[38;5;124m\"\u001b[39m\u001b[38;5;124mGP\u001b[39m\u001b[38;5;124m\"\u001b[39m)\n",
      "\u001b[1;31mAttributeError\u001b[0m: 'staff' object has no attribute 'set_specialization'"
     ]
    }
   ],
   "source": [
    "staff_1.set_specialization(\"GP\")"
   ]
  },
  {
   "cell_type": "code",
   "execution_count": 7,
   "metadata": {},
   "outputs": [
    {
     "data": {
      "text/plain": [
       "'Doctor'"
      ]
     },
     "execution_count": 7,
     "metadata": {},
     "output_type": "execute_result"
    }
   ],
   "source": [
    "staff_1.profession"
   ]
  },
  {
   "cell_type": "code",
   "execution_count": 11,
   "metadata": {},
   "outputs": [
    {
     "name": "stdout",
     "output_type": "stream",
     "text": [
      "What's your choice? 'r' for rock, 'p' for paper, 's' for scissors\n",
      "p\n",
      "It's a tie\n"
     ]
    }
   ],
   "source": [
    "import random\n",
    "\n",
    "def play():\n",
    "    user = input(\"What's your choice? 'r' for rock, 'p' for paper, 's' for scissors\\n\")\n",
    "    computer = random.choice(['r', 'p', 's'])\n",
    "    print(f\"The computer'c\")\n",
    "\n",
    "    if user == computer:\n",
    "        return 'It\\'s a tie'\n",
    "\n",
    "# r > s, s > p, p > r\n",
    "    if is_win(user, computer):\n",
    "        return 'You won!'\n",
    "\n",
    "    return 'You lost!'\n",
    "\n",
    "def is_win(player, opponent):\n",
    "# return true if player wins\n",
    "# r > s, s > p, p > r\n",
    "    if (player == 'r' and opponent == 's') or (player == 's' and opponent == 'p') \\\n",
    "        or (player == 'p' and opponent == 'r'):\n",
    "        return True\n",
    "\n",
    "print(play())\n"
   ]
  },
  {
   "cell_type": "code",
   "execution_count": null,
   "metadata": {},
   "outputs": [],
   "source": []
  }
 ],
 "metadata": {
  "kernelspec": {
   "display_name": "Python 3 (ipykernel)",
   "language": "python",
   "name": "python3"
  },
  "language_info": {
   "codemirror_mode": {
    "name": "ipython",
    "version": 3
   },
   "file_extension": ".py",
   "mimetype": "text/x-python",
   "name": "python",
   "nbconvert_exporter": "python",
   "pygments_lexer": "ipython3",
   "version": "3.9.13"
  }
 },
 "nbformat": 4,
 "nbformat_minor": 2
}
