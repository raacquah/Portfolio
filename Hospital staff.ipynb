  {
   "cell_type": "code",
   "execution_count": 11,
   "metadata": {},
   "outputs": [
    {
     "name": "stdout",
     "output_type": "stream",
     "text": [
      "What's your choice? 'r' for rock, 'p' for paper, 's' for scissors\n",
      "p\n",
      "It's a tie\n"
     ]
    }
   ],
   "source": [
    "import random\n",
    "\n",
    "def play():\n",
    "    user = input(\"What's your choice? 'r' for rock, 'p' for paper, 's' for scissors\\n\")\n",
    "    computer = random.choice(['r', 'p', 's'])\n",
    "    print(f\"The computer'c\")\n",
    "\n",
    "    if user == computer:\n",
    "        return 'It\\'s a tie'\n",
    "\n",
    "# r > s, s > p, p > r\n",
    "    if is_win(user, computer):\n",
    "        return 'You won!'\n",
    "\n",
    "    return 'You lost!'\n",
    "\n",
    "def is_win(player, opponent):\n",
    "# return true if player wins\n",
    "# r > s, s > p, p > r\n",
    "    if (player == 'r' and opponent == 's') or (player == 's' and opponent == 'p') \\\n",
    "        or (player == 'p' and opponent == 'r'):\n",
    "        return True\n",
    "\n",
    "print(play())\n"
   ]
  },
  {
   "cell_type": "code",
   "execution_count": null,
   "metadata": {},
   "outputs": [],
   "source": []
  }
 ],
 "metadata": {
  "kernelspec": {
   "display_name": "Python 3 (ipykernel)",
   "language": "python",
   "name": "python3"
  },
  "language_info": {
   "codemirror_mode": {
    "name": "ipython",
    "version": 3
   },
   "file_extension": ".py",
   "mimetype": "text/x-python",
   "name": "python",
   "nbconvert_exporter": "python",
   "pygments_lexer": "ipython3",
   "version": "3.9.13"
  }
 },
 "nbformat": 4,
 "nbformat_minor": 2
}
