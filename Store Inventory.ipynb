{
 "cells": [
  {
   "cell_type": "markdown",
   "id": "3cec764b",
   "metadata": {},
   "source": [
    "# Store inventory management system\n",
    "\n",
    "##create an inventory list using dictionary (keys: item,quantity,price)\n",
    "\n",
    "##what happens during sale;\n",
    "calculate sales total, Total sales is quantity * unitprice\n",
    "deduct from quantity\n",
    "\n",
    "##what happens when new stock is brought in\n",
    "addition to quantity\n",
    "\n",
    "\n"
   ]
  },
  {
   "cell_type": "code",
   "execution_count": 91,
   "id": "373f6248",
   "metadata": {},
   "outputs": [],
   "source": [
    "class StoreInventory:\n",
    "    def __init__ (self):\n",
    "        self.dict = {}\n",
    "        self.promo = {'FTX-04':1}\n",
    "     \n",
    "    \n",
    "    def add_stuff (self, item_name,quantity,unit_price):  #add items to the store\n",
    "        self.item_name = item_name\n",
    "        self.quantity = quantity\n",
    "        self.unit_price = unit_price\n",
    "        if item_name not in self.dict:\n",
    "            self.dict[item_name] = {\"quantity\":quantity, \"unit price\":unit_price}\n",
    "        else:\n",
    "            raise KeyError (f'{item_name} is already in the store')\n",
    "        \n",
    "    def __str__ (self):\n",
    "        return f\"This is your store :{self.dict}\"\n",
    "    \n",
    "    def delete(self, item_name):                #remove items from the store\n",
    "        if item_name in self.dict: \n",
    "            self.dict.pop(item_name)\n",
    "            \n",
    "    def update(self, item_name, quantity):           #restock\n",
    "        self.dict[item_name][\"quantity\"] += quantity\n",
    "        \n",
    "    def rem_q(self, item_name):           #check the remaining items of a particular product\n",
    "        if item_name in self.dict: \n",
    "            z = self.dict[item_name][\"quantity\"]\n",
    "            return f\"There are {z} pieces of {item_name} remaining\"  \n",
    "    \n",
    "    def add_promo(self,code,discount):      #add promo codes \n",
    "         self.promo[code] = 1- discount\n",
    "        \n",
    "    def order_item(self,item_name, quantity, promo='FTX-04'):  #order an item from the store\n",
    "        if item_name in self.dict: \n",
    "            if quantity <= self.dict[item_name][\"quantity\"]:\n",
    "                if promo in self.promo: \n",
    "                    self.dict[item_name][\"quantity\"] -= quantity             \n",
    "                    total = quantity * self.dict[item_name][\"unit price\"]\n",
    "                    total = total * self.promo[promo]\n",
    "                    return f\"You ordered {quantity} {item_name}s and your total is {total}GHs.\"\n",
    "                else:\n",
    "                    raise KeyError ('Invalid Promo Code. You are a thief') \n",
    "            else:\n",
    "                raise  ValueError (f'Abeg the {item_name}s are finished')\n",
    "        else:\n",
    "            raise KeyError (f'{item} not in store')  "
   ]
  },
  {
   "cell_type": "code",
   "execution_count": 92,
   "id": "7807e5ea",
   "metadata": {},
   "outputs": [],
   "source": [
    "store = StoreInventory()"
   ]
  },
  {
   "cell_type": "code",
   "execution_count": 93,
   "id": "3c8a31c8",
   "metadata": {},
   "outputs": [],
   "source": [
    "store.add_stuff('Pen',100,3)\n",
    "store.add_stuff('Pencil',200,4)\n",
    "store.add_stuff('Book',300,5)"
   ]
  },
  {
   "cell_type": "code",
   "execution_count": 94,
   "id": "33cd9bb5",
   "metadata": {},
   "outputs": [
    {
     "data": {
      "text/plain": [
       "{'Pen': {'quantity': 100, 'unit price': 3},\n",
       " 'Pencil': {'quantity': 200, 'unit price': 4},\n",
       " 'Book': {'quantity': 300, 'unit price': 5}}"
      ]
     },
     "execution_count": 94,
     "metadata": {},
     "output_type": "execute_result"
    }
   ],
   "source": [
    "store.dict"
   ]
  },
  {
   "cell_type": "code",
   "execution_count": 96,
   "id": "b838ebb7",
   "metadata": {},
   "outputs": [
    {
     "data": {
      "text/plain": [
       "{'Pen': {'quantity': 100, 'unit price': 3},\n",
       " 'Pencil': {'quantity': 200, 'unit price': 4},\n",
       " 'Book': {'quantity': 300, 'unit price': 5}}"
      ]
     },
     "execution_count": 96,
     "metadata": {},
     "output_type": "execute_result"
    }
   ],
   "source": [
    "store.dict"
   ]
  },
  {
   "cell_type": "code",
   "execution_count": 97,
   "id": "c69ee6c2",
   "metadata": {},
   "outputs": [],
   "source": [
    "store.delete('Pencil')"
   ]
  },
  {
   "cell_type": "code",
   "execution_count": 98,
   "id": "9210ebe1",
   "metadata": {},
   "outputs": [
    {
     "data": {
      "text/plain": [
       "{'Pen': {'quantity': 100, 'unit price': 3},\n",
       " 'Book': {'quantity': 300, 'unit price': 5}}"
      ]
     },
     "execution_count": 98,
     "metadata": {},
     "output_type": "execute_result"
    }
   ],
   "source": [
    "store.dict"
   ]
  },
  {
   "cell_type": "code",
   "execution_count": 99,
   "id": "1507662c",
   "metadata": {},
   "outputs": [],
   "source": [
    "store.add_stuff('Pencil',200,4)"
   ]
  },
  {
   "cell_type": "code",
   "execution_count": 100,
   "id": "2a62a1fa",
   "metadata": {},
   "outputs": [],
   "source": [
    "store.update('Pencil',10)"
   ]
  },
  {
   "cell_type": "code",
   "execution_count": 101,
   "id": "160d8c01",
   "metadata": {},
   "outputs": [
    {
     "data": {
      "text/plain": [
       "{'Pen': {'quantity': 100, 'unit price': 3},\n",
       " 'Book': {'quantity': 300, 'unit price': 5},\n",
       " 'Pencil': {'quantity': 210, 'unit price': 4}}"
      ]
     },
     "execution_count": 101,
     "metadata": {},
     "output_type": "execute_result"
    }
   ],
   "source": [
    "store.dict"
   ]
  },
  {
   "cell_type": "code",
   "execution_count": 102,
   "id": "a64240dc",
   "metadata": {},
   "outputs": [],
   "source": [
    "store.add_promo('DER',0.2)\n",
    "store.add_promo('TER',0.5)"
   ]
  },
  {
   "cell_type": "code",
   "execution_count": 103,
   "id": "7fde1196",
   "metadata": {},
   "outputs": [
    {
     "data": {
      "text/plain": [
       "'You ordered 10 Pens and your total is 30GHs.'"
      ]
     },
     "execution_count": 103,
     "metadata": {},
     "output_type": "execute_result"
    }
   ],
   "source": [
    "store.order_item('Pen',10)"
   ]
  },
  {
   "cell_type": "code",
   "execution_count": 104,
   "id": "1ff0089c",
   "metadata": {},
   "outputs": [
    {
     "data": {
      "text/plain": [
       "{'Pen': {'quantity': 90, 'unit price': 3},\n",
       " 'Book': {'quantity': 300, 'unit price': 5},\n",
       " 'Pencil': {'quantity': 210, 'unit price': 4}}"
      ]
     },
     "execution_count": 104,
     "metadata": {},
     "output_type": "execute_result"
    }
   ],
   "source": [
    "store.dict"
   ]
  },
  {
   "cell_type": "code",
   "execution_count": 105,
   "id": "9040dc55",
   "metadata": {},
   "outputs": [
    {
     "data": {
      "text/plain": [
       "'You ordered 10 Pens and your total is 24.0GHs.'"
      ]
     },
     "execution_count": 105,
     "metadata": {},
     "output_type": "execute_result"
    }
   ],
   "source": [
    "store.order_item('Pen',10,'DER')"
   ]
  },
  {
   "cell_type": "code",
   "execution_count": 106,
   "id": "bd0d1c0a",
   "metadata": {},
   "outputs": [
    {
     "ename": "KeyError",
     "evalue": "'Invalid Promo Code. You are a thief'",
     "output_type": "error",
     "traceback": [
      "\u001b[1;31m---------------------------------------------------------------------------\u001b[0m",
      "\u001b[1;31mKeyError\u001b[0m                                  Traceback (most recent call last)",
      "\u001b[1;32m~\\AppData\\Local\\Temp\\ipykernel_10872\\3370728559.py\u001b[0m in \u001b[0;36m<module>\u001b[1;34m\u001b[0m\n\u001b[1;32m----> 1\u001b[1;33m \u001b[0mstore\u001b[0m\u001b[1;33m.\u001b[0m\u001b[0morder_item\u001b[0m\u001b[1;33m(\u001b[0m\u001b[1;34m'Pen'\u001b[0m\u001b[1;33m,\u001b[0m\u001b[1;36m10\u001b[0m\u001b[1;33m,\u001b[0m\u001b[1;34m'DER6'\u001b[0m\u001b[1;33m)\u001b[0m\u001b[1;33m\u001b[0m\u001b[1;33m\u001b[0m\u001b[0m\n\u001b[0m",
      "\u001b[1;32m~\\AppData\\Local\\Temp\\ipykernel_10872\\1861175084.py\u001b[0m in \u001b[0;36morder_item\u001b[1;34m(self, item_name, quantity, promo)\u001b[0m\n\u001b[0;32m     41\u001b[0m                     \u001b[1;32mreturn\u001b[0m \u001b[1;34mf\"You ordered {quantity} {item_name}s and your total is {total}GHs.\"\u001b[0m\u001b[1;33m\u001b[0m\u001b[1;33m\u001b[0m\u001b[0m\n\u001b[0;32m     42\u001b[0m                 \u001b[1;32melse\u001b[0m\u001b[1;33m:\u001b[0m\u001b[1;33m\u001b[0m\u001b[1;33m\u001b[0m\u001b[0m\n\u001b[1;32m---> 43\u001b[1;33m                     \u001b[1;32mraise\u001b[0m \u001b[0mKeyError\u001b[0m \u001b[1;33m(\u001b[0m\u001b[1;34m'Invalid Promo Code. You are a thief'\u001b[0m\u001b[1;33m)\u001b[0m\u001b[1;33m\u001b[0m\u001b[1;33m\u001b[0m\u001b[0m\n\u001b[0m\u001b[0;32m     44\u001b[0m             \u001b[1;32melse\u001b[0m\u001b[1;33m:\u001b[0m\u001b[1;33m\u001b[0m\u001b[1;33m\u001b[0m\u001b[0m\n\u001b[0;32m     45\u001b[0m                 \u001b[1;32mraise\u001b[0m  \u001b[0mValueError\u001b[0m \u001b[1;33m(\u001b[0m\u001b[1;34mf'Abeg the {item_name}s are finished'\u001b[0m\u001b[1;33m)\u001b[0m\u001b[1;33m\u001b[0m\u001b[1;33m\u001b[0m\u001b[0m\n",
      "\u001b[1;31mKeyError\u001b[0m: 'Invalid Promo Code. You are a thief'"
     ]
    }
   ],
   "source": [
    "store.order_item('Pen',10,'DER6')"
   ]
  },
  {
   "cell_type": "code",
   "execution_count": 107,
   "id": "a74947af",
   "metadata": {},
   "outputs": [
    {
     "data": {
      "text/plain": [
       "'There are 80 pieces of Pen remaining'"
      ]
     },
     "execution_count": 107,
     "metadata": {},
     "output_type": "execute_result"
    }
   ],
   "source": [
    "store.rem_q('Pen')"
   ]
  },
  {
   "cell_type": "code",
   "execution_count": 108,
   "id": "4dd92977",
   "metadata": {},
   "outputs": [
    {
     "ename": "ValueError",
     "evalue": "Abeg the Pens are finished",
     "output_type": "error",
     "traceback": [
      "\u001b[1;31m---------------------------------------------------------------------------\u001b[0m",
      "\u001b[1;31mValueError\u001b[0m                                Traceback (most recent call last)",
      "\u001b[1;32m~\\AppData\\Local\\Temp\\ipykernel_10872\\4014977720.py\u001b[0m in \u001b[0;36m<module>\u001b[1;34m\u001b[0m\n\u001b[1;32m----> 1\u001b[1;33m \u001b[0mstore\u001b[0m\u001b[1;33m.\u001b[0m\u001b[0morder_item\u001b[0m\u001b[1;33m(\u001b[0m\u001b[1;34m'Pen'\u001b[0m\u001b[1;33m,\u001b[0m\u001b[1;36m100\u001b[0m\u001b[1;33m)\u001b[0m\u001b[1;33m\u001b[0m\u001b[1;33m\u001b[0m\u001b[0m\n\u001b[0m",
      "\u001b[1;32m~\\AppData\\Local\\Temp\\ipykernel_10872\\1861175084.py\u001b[0m in \u001b[0;36morder_item\u001b[1;34m(self, item_name, quantity, promo)\u001b[0m\n\u001b[0;32m     43\u001b[0m                     \u001b[1;32mraise\u001b[0m \u001b[0mKeyError\u001b[0m \u001b[1;33m(\u001b[0m\u001b[1;34m'Invalid Promo Code. You are a thief'\u001b[0m\u001b[1;33m)\u001b[0m\u001b[1;33m\u001b[0m\u001b[1;33m\u001b[0m\u001b[0m\n\u001b[0;32m     44\u001b[0m             \u001b[1;32melse\u001b[0m\u001b[1;33m:\u001b[0m\u001b[1;33m\u001b[0m\u001b[1;33m\u001b[0m\u001b[0m\n\u001b[1;32m---> 45\u001b[1;33m                 \u001b[1;32mraise\u001b[0m  \u001b[0mValueError\u001b[0m \u001b[1;33m(\u001b[0m\u001b[1;34mf'Abeg the {item_name}s are finished'\u001b[0m\u001b[1;33m)\u001b[0m\u001b[1;33m\u001b[0m\u001b[1;33m\u001b[0m\u001b[0m\n\u001b[0m\u001b[0;32m     46\u001b[0m         \u001b[1;32melse\u001b[0m\u001b[1;33m:\u001b[0m\u001b[1;33m\u001b[0m\u001b[1;33m\u001b[0m\u001b[0m\n\u001b[0;32m     47\u001b[0m             \u001b[1;32mraise\u001b[0m \u001b[0mKeyError\u001b[0m \u001b[1;33m(\u001b[0m\u001b[1;34mf'{item} not in store'\u001b[0m\u001b[1;33m)\u001b[0m\u001b[1;33m\u001b[0m\u001b[1;33m\u001b[0m\u001b[0m\n",
      "\u001b[1;31mValueError\u001b[0m: Abeg the Pens are finished"
     ]
    }
   ],
   "source": [
    "store.order_item('Pen',100)"
   ]
  },
  {
   "cell_type": "code",
   "execution_count": null,
   "id": "4624d6d5",
   "metadata": {},
   "outputs": [],
   "source": []
  }
 ],
 "metadata": {
  "kernelspec": {
   "display_name": "Python 3 (ipykernel)",
   "language": "python",
   "name": "python3"
  },
  "language_info": {
   "codemirror_mode": {
    "name": "ipython",
    "version": 3
   },
   "file_extension": ".py",
   "mimetype": "text/x-python",
   "name": "python",
   "nbconvert_exporter": "python",
   "pygments_lexer": "ipython3",
   "version": "3.9.13"
  }
 },
 "nbformat": 4,
 "nbformat_minor": 5
}
