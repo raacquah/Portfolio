{
 "cells": [
  {
   "cell_type": "markdown",
   "id": "1971db0e",
   "metadata": {},
   "source": [
    "### Q1\n",
    "List the basic data types in python and give one example each."
   ]
  },
  {
   "cell_type": "code",
   "execution_count": 4,
   "id": "6c25a697",
   "metadata": {},
   "outputs": [
    {
     "name": "stdout",
     "output_type": "stream",
     "text": [
      "Data Types in Python: String, Boolean, Integer and Float\n"
     ]
    }
   ],
   "source": [
    "Python_Data_types = \"String, Boolean, Integer and Float\"\n",
    "print(\"Data Types in Python: \" + Python_Data_types)"
   ]
  },
  {
   "cell_type": "markdown",
   "id": "4a2be5ba",
   "metadata": {},
   "source": [
    "### Q2\n",
    "Change the variable x = 4539.85 to :\n",
    "\n",
    "(i) a string and assign it to a new variable y,\n",
    "\n",
    "(ii) an integer and assign it to a new variable z\n",
    "\n",
    "Print out the type of y and z."
   ]
  },
  {
   "cell_type": "code",
   "execution_count": 4,
   "id": "4f69aaca",
   "metadata": {},
   "outputs": [
    {
     "data": {
      "text/plain": [
       "str"
      ]
     },
     "execution_count": 4,
     "metadata": {},
     "output_type": "execute_result"
    }
   ],
   "source": [
    "# (i) a string and assign it to a new variable y\n",
    "x = 4539.85\n",
    "y = str(x)\n",
    "type(y)"
   ]
  },
  {
   "cell_type": "code",
   "execution_count": 5,
   "id": "f01c53db",
   "metadata": {},
   "outputs": [
    {
     "data": {
      "text/plain": [
       "int"
      ]
     },
     "execution_count": 5,
     "metadata": {},
     "output_type": "execute_result"
    }
   ],
   "source": [
    "# (ii) an integer and assign it to a new variable z\n",
    "x = 4539.85\n",
    "z = int(x)\n",
    "type(z)"
   ]
  },
  {
   "cell_type": "markdown",
   "id": "81a1251c",
   "metadata": {},
   "source": [
    "### Q3\n",
    "\n",
    "What data type would you use to store\n",
    "\n",
    "a. The price of car?\n",
    "\n",
    "b. The age of a person\n",
    "\n",
    "c. car plate number: plateNumber = \"AV01-AFP\"?\n",
    "\n",
    "d. The price of fuel\n",
    "\n",
    "e. The number of students in the class\n",
    "\n",
    "f. The weight of a person\n",
    "\n",
    "g. Check whether two figures are equal\n",
    "\n",
    "h. The name of a school\n",
    "\n",
    "i. The average result of the overall score of a student\n",
    "\n",
    "j. The total number of vote cast\n",
    "\n"
   ]
  },
  {
   "cell_type": "code",
   "execution_count": 7,
   "id": "8d6deb49",
   "metadata": {},
   "outputs": [],
   "source": [
    "# a. Float\n",
    "# b. Integer\n",
    "# c. String\n",
    "# d. Float\n",
    "# e. Integer\n",
    "# f. Float\n",
    "# g. Float\n",
    "# h. String\n",
    "# i. FLoat\n",
    "# j. Integer"
   ]
  },
  {
   "cell_type": "code",
   "execution_count": null,
   "id": "0221e7a2",
   "metadata": {},
   "outputs": [],
   "source": []
  },
  {
   "cell_type": "markdown",
   "id": "ceb46447",
   "metadata": {},
   "source": [
    "### Q5\n",
    "What values does python use to represent **True** and **False** respectively?"
   ]
  },
  {
   "cell_type": "code",
   "execution_count": 2,
   "id": "1649e7d8",
   "metadata": {},
   "outputs": [],
   "source": [
    "# Boolean"
   ]
  },
  {
   "cell_type": "markdown",
   "id": "e4cc9b15",
   "metadata": {},
   "source": [
    "### Q6\n",
    "Write a code to evaluate if the following statments are True or False.\n",
    "\n",
    "1. 78 is greater than 46 and less than 30 which is an odd number.\n",
    "\n",
    "2. 8-2 is an even number or 8 is a is an odd number.\n",
    "\n",
    "3. The number of characters in the word 'boostrap' is 7 and that of 'sample' is 6."
   ]
  },
  {
   "cell_type": "code",
   "execution_count": 3,
   "id": "15eee075",
   "metadata": {},
   "outputs": [
    {
     "data": {
      "text/plain": [
       "False"
      ]
     },
     "execution_count": 3,
     "metadata": {},
     "output_type": "execute_result"
    }
   ],
   "source": [
    "x = 78\n",
    "x > 46 & x < 30 & x%2 != 0"
   ]
  },
  {
   "cell_type": "code",
   "execution_count": 4,
   "id": "e9c7bf00",
   "metadata": {},
   "outputs": [
    {
     "data": {
      "text/plain": [
       "False"
      ]
     },
     "execution_count": 4,
     "metadata": {},
     "output_type": "execute_result"
    }
   ],
   "source": [
    "y = 8-2\n",
    "t = 8\n",
    "y%2 == 0 & t%2 != 0"
   ]
  },
  {
   "cell_type": "code",
   "execution_count": 24,
   "id": "cd02c814",
   "metadata": {},
   "outputs": [
    {
     "name": "stdout",
     "output_type": "stream",
     "text": [
      "boostrap doesn't have 7 characters\n",
      "sample has 6 characters\n"
     ]
    }
   ],
   "source": [
    "b = 'boostrap'\n",
    "s = 'sample'\n",
    "\n",
    "\n",
    "if len(b) == 7:\n",
    "    print (f\"{b} has 7 characters\")\n",
    "else:\n",
    "    print (f\"{b} doesn't have 7 characters\")\n",
    "  \n",
    "    \n",
    "if len(s) == 6:\n",
    "    print (f\"{s} has 6 characters\")\n",
    "else:\n",
    "    print (f\"{s} doesn't have 6 characters\")"
   ]
  },
  {
   "cell_type": "markdown",
   "id": "bc13f9fc",
   "metadata": {},
   "source": [
    "### Q7\n",
    "Given the following python code,\n",
    "\n",
    "`word='Hello, How are you?'`\n",
    "\n",
    "Write Python code to return the following\n",
    "\n",
    "- How\n",
    "- How are you\n",
    "- are\n",
    "- ?\n",
    "- Hello, How are you\n",
    "\n",
    "\n",
    " "
   ]
  },
  {
   "cell_type": "code",
   "execution_count": 38,
   "id": "0007c6bf",
   "metadata": {},
   "outputs": [
    {
     "name": "stdout",
     "output_type": "stream",
     "text": [
      "1. How\n",
      "2. How are you?\n",
      "3. are\n",
      "4. ?\n",
      "5. Hello, How are you\n"
     ]
    }
   ],
   "source": [
    "word = 'Hello, How are you?'\n",
    "\n",
    "print(f'1. {word[7:10]}')\n",
    "print(f'2. {word[7:20]}')\n",
    "print(f'3. {word[11:14]}')\n",
    "print(f'4. {word[18:19]}')\n",
    "print(f'5. {word[:18]}')"
   ]
  },
  {
   "cell_type": "markdown",
   "id": "e4167de5",
   "metadata": {},
   "source": [
    "### Q8\n",
    "Given the following python code,\n",
    "\n",
    "`sentence = \"I am very excited\"`\n",
    "\n",
    "Write Python code to return \n",
    "- Convert sentence to upper case\n",
    "- Convert sentence to lower case\n",
    "- Convert sentence to title case\n",
    "- Convert sentence to list of strings\n",
    " "
   ]
  },
  {
   "cell_type": "code",
   "execution_count": 47,
   "id": "ac450665",
   "metadata": {},
   "outputs": [
    {
     "name": "stdout",
     "output_type": "stream",
     "text": [
      "I AM VERY EXCITED\n",
      "i am very excited\n",
      "I Am Very Excited\n",
      "['I', 'am', 'very', 'excited']\n"
     ]
    }
   ],
   "source": [
    "sentence = \"I am very excited\"\n",
    "\n",
    "print(sentence.upper())\n",
    "print(sentence.lower())\n",
    "print(sentence.title())\n",
    "print(sentence.split())"
   ]
  },
  {
   "cell_type": "markdown",
   "id": "4faf0134",
   "metadata": {},
   "source": [
    "### Q9\n",
    "`word = 'OneThirtyEight'`\n",
    "\n",
    "Using Python code extract the following from the variable word:\n",
    "- One\n",
    "- Thirty\n",
    "- Eight\n",
    "- OneThirty\n",
    "- ThirtyEight\n",
    "- ONETHIRTYEIGHT"
   ]
  },
  {
   "cell_type": "code",
   "execution_count": 51,
   "id": "6d029e0d",
   "metadata": {},
   "outputs": [
    {
     "name": "stdout",
     "output_type": "stream",
     "text": [
      "1. One\n",
      "2. Thirty\n",
      "3. Eight\n",
      "4. OneThirty\n",
      "5. ThirtyEight\n",
      "6. ONETHIRTYEIGHT\n"
     ]
    }
   ],
   "source": [
    "word = 'OneThirtyEight'\n",
    "\n",
    "print(f'1. {word[:3]}')\n",
    "print(f'2. {word[3:9]}')\n",
    "print(f'3. {word[9:16]}')\n",
    "print(f'4. {word[:9]}')\n",
    "print(f'5. {word[3:16]}')\n",
    "print(f'6. {word.upper()}')"
   ]
  },
  {
   "cell_type": "markdown",
   "id": "2a4eea1f",
   "metadata": {},
   "source": [
    "### Q10\n",
    "Turn Ault'Kelly into a string and assign it to a variable  called name."
   ]
  },
  {
   "cell_type": "code",
   "execution_count": 61,
   "id": "aa2f0a08",
   "metadata": {},
   "outputs": [
    {
     "name": "stdout",
     "output_type": "stream",
     "text": [
      "Ault'Kelly\n"
     ]
    }
   ],
   "source": [
    "name = str(\"Ault'Kelly\")\n",
    "\n",
    "print(name)"
   ]
  }
 ],
 "metadata": {
  "kernelspec": {
   "display_name": "Python 3 (ipykernel)",
   "language": "python",
   "name": "python3"
  },
  "language_info": {
   "codemirror_mode": {
    "name": "ipython",
    "version": 3
   },
   "file_extension": ".py",
   "mimetype": "text/x-python",
   "name": "python",
   "nbconvert_exporter": "python",
   "pygments_lexer": "ipython3",
   "version": "3.9.13"
  }
 },
 "nbformat": 4,
 "nbformat_minor": 5
}
