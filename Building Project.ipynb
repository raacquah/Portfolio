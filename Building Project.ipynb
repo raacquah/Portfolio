{
 "cells": [
  {
   "cell_type": "code",
   "execution_count": 23,
   "id": "8863fdaf",
   "metadata": {},
   "outputs": [
    {
     "name": "stdout",
     "output_type": "stream",
     "text": [
      "Initial: -> Villagio is at Accra Ghana and it has 20 of floors and 10 of stairs count.\n",
      "Total stairs: -> 200\n",
      "\n",
      "After update: -> Brooklyn Tower is at United State and it has 50 of floors and 10 of stairs count.\n",
      "Total stairs: -> 500\n"
     ]
    }
   ],
   "source": [
    "class Building:\n",
    "    def __init__(self, name, address):\n",
    "        self.__name = name\n",
    "        self.__address = address\n",
    "\n",
    "    def get_name(self):\n",
    "        return self.__name\n",
    "\n",
    "    def set_name(self, name):\n",
    "        self.__name = name\n",
    "    \n",
    "    def get_address(self):\n",
    "        return self.__address\n",
    "\n",
    "    def set_address(self, address):\n",
    "        self.__address = address\n",
    "\n",
    "    def __str__(self):\n",
    "        return f\"{self.__name} is at {self.__address}\"\n",
    "    \n",
    "        \n",
    "class Skyscraper(Building):\n",
    "    def __init__(self, name, address, num_floors, stairs_count):\n",
    "        super().__init__(name, address)\n",
    "        self.__stairs_count = stairs_count    \n",
    "        self.__num_floors = num_floors        \n",
    "    \n",
    "    def set_num_floors(self, num_floors):\n",
    "        self.__num_floors = num_floors\n",
    "\n",
    "    def get_total_stairs(self):\n",
    "        return self.__num_floors * self.__stairs_count\n",
    "    \n",
    "    def __str__(self):\n",
    "        return super().__str__() + f\" and it has {self.__num_floors} of floors and {self.__stairs_count} of stairs count.\"\n",
    "        \n",
    "        \n",
    "class House(Building):\n",
    "    def __init__(self, name, address, num_floors, num_bedrooms):\n",
    "        super().__init__(name, address, num_floors)\n",
    "        self.__num_bedrooms = int(num_bedrooms)\n",
    "        \n",
    "        \n",
    "class Apartment(Building):\n",
    "    def __init__(self, name, address, num_floors, num_units):\n",
    "        super().__init__(name, address, num_floors)\n",
    "        self.__num_units = int(num_units)\n",
    "        \n",
    "        \n",
    "class Hotel(Building):\n",
    "    def __init__(self, name, address, num_floors, num_rooms, num_stars):\n",
    "        super().__init__(name, address, num_floors)\n",
    "        self.__num_rooms = num_rooms\n",
    "        self.__num_stars = num_stars\n",
    "        \n",
    "        \n",
    "scrapper = Skyscraper(\"Villagio\", \"Accra Ghana\", 20, 10)\n",
    "print(\"Initial: ->\", scrapper)\n",
    "print(\"Total stairs: ->\", scrapper.get_total_stairs())\n",
    "\n",
    "scrapper.set_name(\"Brooklyn Tower\")\n",
    "scrapper.set_address(\"United State\")\n",
    "scrapper.set_num_floors(50)\n",
    "print()\n",
    "print(\"After update: ->\", scrapper)\n",
    "print(\"Total stairs: ->\", scrapper.get_total_stairs())"
   ]
  },
  {
   "cell_type": "code",
   "execution_count": null,
   "id": "17214dc2",
   "metadata": {},
   "outputs": [],
   "source": []
  },
  {
   "cell_type": "code",
   "execution_count": null,
   "id": "1cc38934",
   "metadata": {},
   "outputs": [],
   "source": [
    "# building_name = input(\"Enter building name: \")\n",
    "# building_height = int(input(\"Enter building height: \"))\n",
    "# building_num_floors = int(input(\"Enter building number of floors:\"))\n",
    "\n",
    "# new_building = Building(building_name, building_height, building_num_floors)\n",
    "# print()\n",
    "# print(new_building)"
   ]
  }
 ],
 "metadata": {
  "kernelspec": {
   "display_name": "Python 3 (ipykernel)",
   "language": "python",
   "name": "python3"
  },
  "language_info": {
   "codemirror_mode": {
    "name": "ipython",
    "version": 3
   },
   "file_extension": ".py",
   "mimetype": "text/x-python",
   "name": "python",
   "nbconvert_exporter": "python",
   "pygments_lexer": "ipython3",
   "version": "3.8.10"
  }
 },
 "nbformat": 4,
 "nbformat_minor": 5
}
