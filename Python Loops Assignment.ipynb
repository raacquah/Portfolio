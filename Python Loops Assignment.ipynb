{
 "cells": [
  {
   "cell_type": "markdown",
   "id": "c981861e",
   "metadata": {},
   "source": [
    "# Q1\n",
    "Write a code to display a list of the first 12 multiples of 8 using a for loop"
   ]
  },
  {
   "cell_type": "code",
   "execution_count": null,
   "id": "bb21848b",
   "metadata": {},
   "outputs": [],
   "source": [
    "multi_8 = []\n",
    "for a in range(1,200):\n",
    "    if a%8 == 0:\n",
    "        multi_8.append(a)\n",
    "    else:\n",
    "        continue\n",
    "    if len(multi_8) == 12:\n",
    "        break\n",
    "print (multi_8)"
   ]
  },
  {
   "cell_type": "markdown",
   "id": "d9f7d0f9",
   "metadata": {},
   "source": [
    "# Q2\n",
    "Write the code to print sum of all even numbers from 1 to 201"
   ]
  },
  {
   "cell_type": "code",
   "execution_count": 13,
   "id": "f8b43e29",
   "metadata": {},
   "outputs": [
    {
     "name": "stdout",
     "output_type": "stream",
     "text": [
      "The sum of even numbers from 1 to 201 is 10100\n"
     ]
    }
   ],
   "source": [
    "even_num_201 = 0\n",
    "for n in range (1, 202):\n",
    "    if n%2 == 0:\n",
    "        even_num_201 += n\n",
    "    else:\n",
    "        continue\n",
    "print (f\"The sum of even numbers from 1 to 201 is {even_num_201}\")"
   ]
  },
  {
   "cell_type": "markdown",
   "id": "4f0f12d7",
   "metadata": {},
   "source": [
    "# Q3\n",
    "`my_list = [3, 5, 7, 12, 41]`\n",
    "\n",
    "Write the code to display the list of the squares of each number in my list\n",
    "\n",
    "- Without using list comprehension\n",
    "- Using list comprehension\n"
   ]
  },
  {
   "cell_type": "code",
   "execution_count": 14,
   "id": "dac9d7d9",
   "metadata": {},
   "outputs": [
    {
     "name": "stdout",
     "output_type": "stream",
     "text": [
      "[9, 25, 49, 144, 1681]\n"
     ]
    }
   ],
   "source": [
    "# Using the list comprehension\n",
    "my_list2 = [3, 5, 7, 12, 41]\n",
    "sq = [j**2 for j in my_list2]\n",
    "print (sq)"
   ]
  },
  {
   "cell_type": "code",
   "execution_count": 15,
   "id": "612e6add",
   "metadata": {},
   "outputs": [
    {
     "name": "stdout",
     "output_type": "stream",
     "text": [
      "[9, 25, 49, 144, 1681]\n"
     ]
    }
   ],
   "source": [
    "# Without the list comprehension\n",
    "my_list = [3, 5, 7, 12, 41]\n",
    "sq = []\n",
    "for j in my_list:\n",
    "    sq.append(j**2)\n",
    "print(sq)"
   ]
  },
  {
   "cell_type": "markdown",
   "id": "28bed149",
   "metadata": {},
   "source": [
    "# Q4\n",
    "`my_list1 = [3, 53,47, 22, 53, 78, 12, 41]`\n",
    "\n",
    "Calculate the average of my_list1\n",
    "\n",
    "- Without using sum and len fucnctions\n",
    "- Using sum and len functions\n"
   ]
  },
  {
   "cell_type": "code",
   "execution_count": 19,
   "id": "7c3c5f23",
   "metadata": {},
   "outputs": [
    {
     "name": "stdout",
     "output_type": "stream",
     "text": [
      "The total is 309\n",
      "Their count is 8\n",
      "Finally, the Average of `my_list1` is 38.625\n"
     ]
    }
   ],
   "source": [
    "# Without using sum and len fucnctions\n",
    "my_list1 = [3, 53, 47, 22, 53, 78, 12, 41]\n",
    "tot = 0\n",
    "count = 0\n",
    "for t in my_list1:\n",
    "    tot +=t\n",
    "    count +=1\n",
    "print (f\"The total is {tot}\")\n",
    "print (f\"Their count is {count}\")\n",
    "print (f\"Finally, the Average of `my_list1` is {tot/count}\")"
   ]
  },
  {
   "cell_type": "code",
   "execution_count": 21,
   "id": "dab34501",
   "metadata": {},
   "outputs": [
    {
     "name": "stdout",
     "output_type": "stream",
     "text": [
      "The total is 309\n",
      "Their count is 8\n",
      "Finally, the Average of `my_list1` is 38.625\n"
     ]
    }
   ],
   "source": [
    "# Using sum and len functions\n",
    "my_list1 = [3, 53, 47, 22, 53, 78, 12, 41]\n",
    "avg = sum(my_list1)/len(my_list1)\n",
    "print (f\"The total is {sum(my_list1)}\")\n",
    "print (f\"Their count is {len(my_list1)}\")\n",
    "print (f\"Finally, the Average of `my_list1` is {avg}\")"
   ]
  },
  {
   "cell_type": "markdown",
   "id": "38c1ddff",
   "metadata": {},
   "source": [
    "# Q4\n",
    "\n",
    "Write a Python program to guess a number between 1 and 9.\n",
    "User is prompted to enter a guess. If the user guesses wrong then the prompt appears again until the guess is correct, on successful guess, user will get a \"Well guessed!\" message, and the program will exit."
   ]
  },
  {
   "cell_type": "code",
   "execution_count": 11,
   "id": "345bd0d6",
   "metadata": {},
   "outputs": [
    {
     "name": "stdout",
     "output_type": "stream",
     "text": [
      "Guess a number: 2\n",
      "Sorry, try again: 4\n",
      "Well guessed!\n"
     ]
    }
   ],
   "source": [
    "user = int(input (\"Guess a number: \"))\n",
    "python = 4\n",
    "while user != python:\n",
    "    user = int(input(\"Sorry, try again: \"))\n",
    "    if user == python:\n",
    "        print(\"Well guessed!\")\n",
    "    break"
   ]
  },
  {
   "cell_type": "markdown",
   "id": "f5c02baa",
   "metadata": {},
   "source": [
    "# Q5\n",
    "Write a Python program to construct the following pattern.\n",
    "\n",
    "`*` \n",
    "\n",
    "`* *` \n",
    "\n",
    "`* * *` \n",
    "\n",
    "`* * * *` \n",
    "\n",
    "`* * * * *`"
   ]
  },
  {
   "cell_type": "code",
   "execution_count": 22,
   "id": "844f7d03",
   "metadata": {},
   "outputs": [
    {
     "name": "stdout",
     "output_type": "stream",
     "text": [
      " *\n",
      " * *\n",
      " * * *\n",
      " * * * *\n",
      " * * * * *\n"
     ]
    }
   ],
   "source": [
    "for star in range (1, 6):\n",
    "    print (' *' * star)"
   ]
  },
  {
   "cell_type": "markdown",
   "id": "e85d94df",
   "metadata": {},
   "source": [
    "# Q6\n",
    "\n",
    "Write a Python program that accepts a word from the user and reverses it."
   ]
  },
  {
   "cell_type": "code",
   "execution_count": 9,
   "id": "195bef8a",
   "metadata": {},
   "outputs": [
    {
     "name": "stdout",
     "output_type": "stream",
     "text": [
      "What is your word? richmonD\n",
      "Reversed word is: Dnomhcir\n"
     ]
    }
   ],
   "source": [
    "entry = input(\"What is your word? \")\n",
    "print(f\"Reversed word is: {entry[::-1]}\")"
   ]
  },
  {
   "cell_type": "markdown",
   "id": "5fe06511",
   "metadata": {},
   "source": [
    "# Q7\n",
    "Write a Python program that accepts a word from the user and reverses it."
   ]
  },
  {
   "cell_type": "code",
   "execution_count": 15,
   "id": "d240f9f6",
   "metadata": {},
   "outputs": [
    {
     "name": "stdout",
     "output_type": "stream",
     "text": [
      "Enter your word please: Ghana\n",
      "Your reversed word is: anahG\n"
     ]
    }
   ],
   "source": [
    "word = input(\"Enter your word please: \")\n",
    "print (f\"Your reversed word is: {word[::-1]}\")"
   ]
  },
  {
   "cell_type": "markdown",
   "id": "5a99d4b3",
   "metadata": {},
   "source": [
    "# Q8\n",
    "\n",
    "`lst = [3,4,5,4,7,8,5,8,3,6,8,9,11]`\n",
    "\n",
    "Write a Python program to count the number of even and odd numbers in the above list of numbers.\n",
    "\n",
    "**Expected output should be in this format**\n",
    "\n",
    "{\"Even\" : num_of_even, \"Odd\": num_of_odd}"
   ]
  },
  {
   "cell_type": "code",
   "execution_count": 14,
   "id": "85748166",
   "metadata": {},
   "outputs": [
    {
     "name": "stdout",
     "output_type": "stream",
     "text": [
      "{'Even numbers': 6, 'Odd numbers': 7}\n"
     ]
    }
   ],
   "source": [
    "lst = [3,4,5,4,7,8,5,8,3,6,8,9,11]\n",
    "even_num = 0\n",
    "odd_num = 0\n",
    "for even in lst:\n",
    "    if even%2 == 0:\n",
    "        even_num += 1\n",
    "    else:\n",
    "        odd_num += 1\n",
    "even_odd = {}\n",
    "even_odd[\"Even numbers\"] = even_num\n",
    "even_odd[\"Odd numbers\"] = odd_num\n",
    "print (even_odd)\n",
    "    "
   ]
  },
  {
   "cell_type": "markdown",
   "id": "c92b54f9",
   "metadata": {},
   "source": [
    "# Q9\n",
    " Write a Python program that iterates the integers from 1 to 50. For multiples of three print \"Fizz\" instead of the number and for multiples of five print \"Buzz\". For numbers that are multiples of three and five, print \"FizzBuzz\".\n",
    "Sample Output :\n",
    "1\n",
    "\n",
    "2\n",
    "\n",
    "fizz\n",
    "\n",
    "4\n",
    "\n",
    "buzz"
   ]
  },
  {
   "cell_type": "code",
   "execution_count": 36,
   "id": "cea716a7",
   "metadata": {},
   "outputs": [
    {
     "name": "stdout",
     "output_type": "stream",
     "text": [
      "1\n",
      "2\n",
      "Fizz\n",
      "4\n",
      "Buzz\n",
      "Fizz\n",
      "7\n",
      "8\n",
      "Fizz\n",
      "Buzz\n",
      "11\n",
      "Fizz\n",
      "13\n",
      "14\n",
      "FizzBuzz\n",
      "16\n",
      "17\n",
      "Fizz\n",
      "19\n",
      "Buzz\n",
      "Fizz\n",
      "22\n",
      "23\n",
      "Fizz\n",
      "Buzz\n",
      "26\n",
      "Fizz\n",
      "28\n",
      "29\n",
      "FizzBuzz\n",
      "31\n",
      "32\n",
      "Fizz\n",
      "34\n",
      "Buzz\n",
      "Fizz\n",
      "37\n",
      "38\n",
      "Fizz\n",
      "Buzz\n",
      "41\n",
      "Fizz\n",
      "43\n",
      "44\n",
      "FizzBuzz\n",
      "46\n",
      "47\n",
      "Fizz\n",
      "49\n",
      "Buzz\n"
     ]
    }
   ],
   "source": [
    "for j in range (1,51):\n",
    "    if j%3 == 0 and j%5 == 0:\n",
    "        print ('FizzBuzz')\n",
    "    elif j%3 == 0:\n",
    "        print ('Fizz')\n",
    "    elif j%5 == 0:\n",
    "        print('Buzz')\n",
    "    else:\n",
    "        print (j)"
   ]
  },
  {
   "cell_type": "markdown",
   "id": "8d3505cf",
   "metadata": {},
   "source": [
    "# Q10\n",
    " Write a Python program to find the median of three values inputs from the user"
   ]
  },
  {
   "cell_type": "code",
   "execution_count": 54,
   "id": "0149ec40",
   "metadata": {},
   "outputs": [
    {
     "name": "stdout",
     "output_type": "stream",
     "text": [
      "Please enter a positive integer: 6\n",
      "Enter another: 9\n",
      "Enter a final one: 8\n",
      "The median of your numbers is 2\n"
     ]
    }
   ],
   "source": [
    "x = int(input(\"Please enter a positive integer: \"))\n",
    "y = int(input(\"Enter another: \"))\n",
    "z = int(input(\"Enter a final one: \"))\n",
    "\n",
    "my_list_2 = [x, y, z]\n",
    "my_list_2.sort()\n",
    "midpoint = len(my_list) // 2\n",
    "# result = (my_list[midpoint] + my_list[~midpoint]) // 2\n",
    "print (f\"The median of your numbers is {midpoint}\")"
   ]
  },
  {
   "cell_type": "markdown",
   "id": "9ef4f8a2",
   "metadata": {},
   "source": [
    "# Q11\n",
    "Write a Python program to calculate the sum and average of n integer numbers (input from the user). Input 0 to finish."
   ]
  },
  {
   "cell_type": "code",
   "execution_count": 17,
   "id": "e1ee4433",
   "metadata": {},
   "outputs": [
    {
     "name": "stdout",
     "output_type": "stream",
     "text": [
      "Please enter a positive integer: 1\n",
      "Please enter a positive integer: 2\n",
      "Sum of 1 and 1 is 3\n",
      "Average of 1 and 2 is 1.5\n"
     ]
    }
   ],
   "source": [
    "n = int(input('Please enter a positive integer: '))\n",
    "m = int(input('Please enter a positive integer: '))\n",
    "\n",
    "print(f'Sum of {n} and {n} is {m+n}')\n",
    "print(f'Average of {n} and {m} is {(m+n)/2}')"
   ]
  },
  {
   "cell_type": "markdown",
   "id": "45f5c335",
   "metadata": {},
   "source": [
    "# Q12\n",
    " Write a Python program to create the multiplication table (from 1 to 12) of a number input from a user.\n",
    " \n",
    " Expected Output:\n",
    "\n",
    "Input a number: 6                                                       \n",
    "6 x 1 = 6                                                               \n",
    "6 x 2 = 12                                                              \n",
    "6 x 3 = 18                                                              \n",
    "6 x 4 = 24                                                              \n",
    "6 x 5 = 30                                                              \n",
    "6 x 6 = 36                                                              \n",
    "6 x 7 = 42                                                              \n",
    "6 x 8 = 48                                                              \n",
    "6 x 9 = 54                                                              \n",
    "6 x 10 = 60 \n",
    "\n",
    "6 x 11 = 66\n",
    "\n",
    "6 x 12 = 72"
   ]
  },
  {
   "cell_type": "code",
   "execution_count": 18,
   "id": "c3c7e965",
   "metadata": {},
   "outputs": [
    {
     "name": "stdout",
     "output_type": "stream",
     "text": [
      "Please input a positive integer: 5\n",
      "5 x 1 = 5\n",
      "5 x 2 = 10\n",
      "5 x 3 = 15\n",
      "5 x 4 = 20\n",
      "5 x 5 = 25\n",
      "5 x 6 = 30\n",
      "5 x 7 = 35\n",
      "5 x 8 = 40\n",
      "5 x 9 = 45\n",
      "5 x 10 = 50\n",
      "5 x 11 = 55\n",
      "5 x 12 = 60\n"
     ]
    }
   ],
   "source": [
    "num = int(input(\"Please input a positive integer: \"))\n",
    "\n",
    "table = {}\n",
    "for i in range(1, 13):\n",
    "    table[i] = num * i\n",
    "\n",
    "for key, value in table.items():\n",
    "    print(f\"{num} x {key} = {value}\")\n"
   ]
  },
  {
   "cell_type": "markdown",
   "id": "8cc97048",
   "metadata": {},
   "source": [
    "# Q13\n",
    "Write a Python program to construct the following pattern\n",
    "\n",
    "1\n",
    "\n",
    "22\n",
    "\n",
    "333\n",
    "\n",
    "4444\n",
    "\n",
    "55555\n",
    "\n",
    "666666\n",
    "\n",
    "7777777\n",
    "\n",
    "88888888\n",
    "\n",
    "999999999"
   ]
  },
  {
   "cell_type": "code",
   "execution_count": 24,
   "id": "3bd55040",
   "metadata": {},
   "outputs": [
    {
     "name": "stdout",
     "output_type": "stream",
     "text": [
      "1\n",
      "22\n",
      "333\n",
      "4444\n",
      "55555\n",
      "666666\n",
      "7777777\n",
      "88888888\n",
      "999999999\n"
     ]
    }
   ],
   "source": [
    "for i in range(1, 10):\n",
    "    print(str(i) * i)"
   ]
  },
  {
   "cell_type": "markdown",
   "id": "adef967a",
   "metadata": {},
   "source": [
    "# Q14\n",
    "Print sum of all odd numbers from 10 to 50"
   ]
  },
  {
   "cell_type": "code",
   "execution_count": 34,
   "id": "a4875c6d",
   "metadata": {},
   "outputs": [
    {
     "name": "stdout",
     "output_type": "stream",
     "text": [
      "The sum of all odd numbers from 10 to 50 is: 600\n"
     ]
    }
   ],
   "source": [
    "sum_odd = 0\n",
    "\n",
    "for i in range(11, 51):\n",
    "    if i%2 !=0:\n",
    "        sum_odd += i\n",
    "\n",
    "print(f'The sum of all odd numbers from 10 to 50 is: {sum_odd}')"
   ]
  },
  {
   "cell_type": "markdown",
   "id": "1642ec1a",
   "metadata": {},
   "source": [
    "# Q15\n",
    "\n",
    "`my_list = [25, 100, 121, 400, 81]`\n",
    "\n",
    "Write the code to display the list of the square root of each number in my list\n",
    "\n",
    "- Without using list comprehension\n",
    "- Using list comprehension"
   ]
  },
  {
   "cell_type": "code",
   "execution_count": 38,
   "id": "be3f0615",
   "metadata": {},
   "outputs": [
    {
     "name": "stdout",
     "output_type": "stream",
     "text": [
      "[5, 10, 11, 20, 9]\n"
     ]
    }
   ],
   "source": [
    "# Using the list comprehension\n",
    "my_list = [25, 100, 121, 400, 81]\n",
    "sq_rt = [int(g**(1/2)) for g in my_list]\n",
    "print (sq_rt)"
   ]
  },
  {
   "cell_type": "code",
   "execution_count": 44,
   "id": "2c40c582",
   "metadata": {},
   "outputs": [
    {
     "name": "stdout",
     "output_type": "stream",
     "text": [
      "[5, 10, 11, 20, 9]\n"
     ]
    }
   ],
   "source": [
    "# Without the list comprehension\n",
    "my_list = [25, 100, 121, 400, 81]\n",
    "sq_rt1 = []\n",
    "for n in my_list:\n",
    "    sq_rt1.append(int(n**(1/2)))\n",
    "print(sq_rt1)"
   ]
  }
 ],
 "metadata": {
  "kernelspec": {
   "display_name": "Python 3 (ipykernel)",
   "language": "python",
   "name": "python3"
  },
  "language_info": {
   "codemirror_mode": {
    "name": "ipython",
    "version": 3
   },
   "file_extension": ".py",
   "mimetype": "text/x-python",
   "name": "python",
   "nbconvert_exporter": "python",
   "pygments_lexer": "ipython3",
   "version": "3.9.13"
  }
 },
 "nbformat": 4,
 "nbformat_minor": 5
}
