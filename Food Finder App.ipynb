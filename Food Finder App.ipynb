{
 "cells": [
  {
   "cell_type": "code",
   "execution_count": 5,
   "id": "eed1f667",
   "metadata": {},
   "outputs": [],
   "source": [
    "class FoodFinderApp:\n",
    "    category = \"Food Menu\"\n",
    "    def __init__(self, restaurant, location):\n",
    "        self.restaurant = restaurant\n",
    "        self.location = location\n",
    "        \n",
    "    def get_restaurant(self):\n",
    "        return self.restaurant\n",
    "    \n",
    "    def get_location(self):\n",
    "        return self.location\n",
    "        \n",
    "    def __str__(self):\n",
    "        return ({\"Restaurant\": self.restaurant, \"Location\": self.location, \"Meal\": self.meal, \"Price\": self.price})\n",
    "\n",
    "class Breakfast(FoodFinderApp):\n",
    "    category = \"Breakfast Menu\"\n",
    "    def __init__(self, restaurant,location, meal, price):\n",
    "        super().__init__(restaurant, location)\n",
    "        self.meal = meal\n",
    "        self.price = price\n",
    "        \n",
    "    def __str__(self):\n",
    "        return  ({\"Restaurant\": self.restaurant, \"Location\": self.location, \"Meal\": self.meal, \"Price\": self.price})\n",
    "\n",
    "class Lunch(FoodFinderApp):\n",
    "    category = \"Lunch Menu\"\n",
    "    def __init__(self, restaurant, location, meal, price):\n",
    "        super().__init__(restaurant, location)\n",
    "        self.meal = meal\n",
    "        self.price = price\n",
    "\n",
    "    def __str__(self):\n",
    "        return ({\"Restaurant\": self.restaurant, \"Location\": self.location, \"Meal\": self.meal, \"Price\": self.price})\n",
    "    \n",
    "class Supper(FoodFinderApp):\n",
    "    category = \"Supper Menu\"\n",
    "    def __init__(self, restaurant,location, meal, price):\n",
    "        super().__init__(restaurant, location)\n",
    "        self.meal = meal\n",
    "        self.price = price\n",
    "        \n",
    "    def __str__(self):\n",
    "        return ({\"Restaurant\": self.restaurant, \"Location\": self.location, \"Meal\": self.meal, \"Price\": self.price})"
   ]
  },
  {
   "cell_type": "code",
   "execution_count": 6,
   "id": "b25b2d9e",
   "metadata": {},
   "outputs": [],
   "source": [
    "user1 = Breakfast(\"The Farmer's Blossom\", \"Kwabenya Point 1\", \"Tea and Bread\", 50)\n",
    "user2 = Lunch(\"The Farmer's Blossom\", \"Kwabenya Point 1\", \"Fufu and Palmnut Soup\", 50)\n",
    "user3 = Supper(\"The Farmer's Blossom\", \"Kwabenya Point 1\", \"Rice and Cabbage Stew\", 55)\n",
    "user4 = Breakfast(\"Little Street Tavern\", \"Osu oxford Street\", \"Rice pudding and Toasted Bread\", 70)\n",
    "user5 = Lunch(\"Little Street Tavern\", \"Osu oxford Street\", \"Fried Rice and Grilled Chicken\", 80)\n",
    "user6 = Supper(\"Little Street Tavern\", \"Osu oxford Street\", \"Chips and Chicken Wings\", 85)\n",
    "user7 = Breakfast(\"The Dove Inn\", \"Madina Estates\", \"Tom Brown and Toasted Bread\", 40)\n",
    "user7 = Lunch(\"The Dove Inn\", \"Madina Estates\", \"Beans Stew and Fried Plantain\", 45)\n",
    "user6 = Supper(\"The Dove Inn\", \"Madina Estates\", \"Palava Sauce and Boiled Plantain\", 42)\n",
    "user8 = Breakfast(\"Bliss Cuisine\", \"West Legon\", \"Oblayo and Bofrot\", 68)\n",
    "user9 = Lunch(\"Bliss Cuisine\", \"West Legon\", \"Groundnut Soup and Rice Balls\", 70)\n",
    "user10 = Supper(\"Bliss Cuisine\", \"West Legon\", \"Spaghetti Bolognese\", 83)\n",
    "user11 = Breakfast(\"Fancy Lotus & Co.\", \"East Legon\", \"Chicken and Waffles\", 250)\n",
    "user12 = Lunch(\"Fancy Lotus & Co.\", \"East Legon\", \"Banku and Tilapia\", 200)\n",
    "user13 = Supper(\"Fancy Lotus & Co.\", \"East Legon\", \"Stir Fried Noodles With Eggs\", 300)"
   ]
  },
  {
   "cell_type": "code",
   "execution_count": 8,
   "id": "eb1950f0",
   "metadata": {},
   "outputs": [
    {
     "data": {
      "text/plain": [
       "'The Dove Inn'"
      ]
     },
     "execution_count": 8,
     "metadata": {},
     "output_type": "execute_result"
    }
   ],
   "source": [
    "user6.restaurant"
   ]
  },
  {
   "cell_type": "code",
   "execution_count": 9,
   "id": "9b310093",
   "metadata": {},
   "outputs": [
    {
     "data": {
      "text/plain": [
       "'Chicken and Waffles'"
      ]
     },
     "execution_count": 9,
     "metadata": {},
     "output_type": "execute_result"
    }
   ],
   "source": [
    "user11.meal"
   ]
  },
  {
   "cell_type": "code",
   "execution_count": null,
   "id": "734cffe2",
   "metadata": {},
   "outputs": [],
   "source": []
  },
  {
   "cell_type": "code",
   "execution_count": null,
   "id": "5758a9d5",
   "metadata": {},
   "outputs": [],
   "source": []
  },
  {
   "cell_type": "code",
   "execution_count": null,
   "id": "caf9999b",
   "metadata": {},
   "outputs": [],
   "source": []
  },
  {
   "cell_type": "code",
   "execution_count": 36,
   "id": "e5352839",
   "metadata": {
    "scrolled": true
   },
   "outputs": [
    {
     "ename": "TypeError",
     "evalue": "__init__() missing 2 required positional arguments: 'restaurant' and 'location'",
     "output_type": "error",
     "traceback": [
      "\u001b[1;31m---------------------------------------------------------------------------\u001b[0m",
      "\u001b[1;31mTypeError\u001b[0m                                 Traceback (most recent call last)",
      "\u001b[1;32m~\\AppData\\Local\\Temp\\ipykernel_31212\\1685412581.py\u001b[0m in \u001b[0;36m<module>\u001b[1;34m\u001b[0m\n\u001b[1;32m----> 1\u001b[1;33m \u001b[0mfood_finder\u001b[0m \u001b[1;33m=\u001b[0m \u001b[0mFoodFinderApp\u001b[0m\u001b[1;33m(\u001b[0m\u001b[1;33m)\u001b[0m\u001b[1;33m\u001b[0m\u001b[1;33m\u001b[0m\u001b[0m\n\u001b[0m\u001b[0;32m      2\u001b[0m \u001b[1;33m\u001b[0m\u001b[0m\n\u001b[0;32m      3\u001b[0m \u001b[0mlocation\u001b[0m \u001b[1;33m=\u001b[0m \u001b[0minput\u001b[0m\u001b[1;33m(\u001b[0m\u001b[1;34m\"Enter location: \"\u001b[0m\u001b[1;33m)\u001b[0m\u001b[1;33m\u001b[0m\u001b[1;33m\u001b[0m\u001b[0m\n\u001b[0;32m      4\u001b[0m \u001b[0mfood_type\u001b[0m \u001b[1;33m=\u001b[0m \u001b[0minput\u001b[0m\u001b[1;33m(\u001b[0m\u001b[1;34m\"Enter food type: \"\u001b[0m\u001b[1;33m)\u001b[0m\u001b[1;33m\u001b[0m\u001b[1;33m\u001b[0m\u001b[0m\n\u001b[0;32m      5\u001b[0m \u001b[0mfood_finder\u001b[0m\u001b[1;33m.\u001b[0m\u001b[0mfind_restaurants\u001b[0m\u001b[1;33m(\u001b[0m\u001b[0mlocation\u001b[0m\u001b[1;33m,\u001b[0m \u001b[0mfood_type\u001b[0m\u001b[1;33m)\u001b[0m\u001b[1;33m\u001b[0m\u001b[1;33m\u001b[0m\u001b[0m\n",
      "\u001b[1;31mTypeError\u001b[0m: __init__() missing 2 required positional arguments: 'restaurant' and 'location'"
     ]
    }
   ],
   "source": [
    "food_finder = FoodFinderApp()\n",
    "\n",
    "location = input(\"Enter location: \")\n",
    "food_type = input(\"Enter food type: \")\n",
    "food_finder.find_restaurants(location, food_type)"
   ]
  },
  {
   "cell_type": "code",
   "execution_count": null,
   "id": "3de308f5",
   "metadata": {},
   "outputs": [],
   "source": []
  },
  {
   "cell_type": "code",
   "execution_count": null,
   "id": "e2cb34f9",
   "metadata": {},
   "outputs": [],
   "source": []
  },
  {
   "cell_type": "code",
   "execution_count": null,
   "id": "f0a3b6a9",
   "metadata": {},
   "outputs": [],
   "source": []
  },
  {
   "cell_type": "code",
   "execution_count": null,
   "id": "0ec8bf7d",
   "metadata": {},
   "outputs": [],
   "source": []
  },
  {
   "cell_type": "code",
   "execution_count": null,
   "id": "70f82cfa",
   "metadata": {},
   "outputs": [],
   "source": []
  },
  {
   "cell_type": "code",
   "execution_count": null,
   "id": "2a62fa3c",
   "metadata": {},
   "outputs": [],
   "source": []
  },
  {
   "cell_type": "code",
   "execution_count": null,
   "id": "ba3a71b9",
   "metadata": {},
   "outputs": [],
   "source": []
  },
  {
   "cell_type": "code",
   "execution_count": null,
   "id": "9ac62dcb",
   "metadata": {},
   "outputs": [],
   "source": []
  },
  {
   "cell_type": "code",
   "execution_count": null,
   "id": "c9670541",
   "metadata": {},
   "outputs": [],
   "source": []
  },
  {
   "cell_type": "code",
   "execution_count": null,
   "id": "28fe0459",
   "metadata": {},
   "outputs": [],
   "source": []
  },
  {
   "cell_type": "code",
   "execution_count": null,
   "id": "a23ab8d7",
   "metadata": {},
   "outputs": [],
   "source": []
  },
  {
   "cell_type": "code",
   "execution_count": null,
   "id": "f2df6037",
   "metadata": {},
   "outputs": [],
   "source": []
  },
  {
   "cell_type": "code",
   "execution_count": null,
   "id": "7113de87",
   "metadata": {},
   "outputs": [],
   "source": []
  },
  {
   "cell_type": "code",
   "execution_count": null,
   "id": "0dde9c56",
   "metadata": {},
   "outputs": [],
   "source": []
  },
  {
   "cell_type": "code",
   "execution_count": null,
   "id": "b061fd12",
   "metadata": {},
   "outputs": [],
   "source": []
  },
  {
   "cell_type": "code",
   "execution_count": null,
   "id": "a7d4e565",
   "metadata": {},
   "outputs": [],
   "source": [
    "meal = Supper(\"Blossom c\", \"Kwabenya Point 1\", \"Fried fish with fried rice\", 70)\n",
    "meal1 = Supper(\"Blossom Restaurant\", \"Kwabenya Point 1\", \"Grilled fish with fried rice\", 65)\n",
    "meal2 = Supper(\"Blossom Restaurant\", \"Kwabenya Point 1\", \"Grilled chicken with rice, Coleslaw & Pepper\", 95)\n",
    "meal3 = Supper(\"Blossom Restaurant\", \"Kwabenya Point 1\", \"Broasted chicken with chips, Coleslaw & Ketchup\", 85)\n",
    "meal4 = Supper(\"Blossom Restaurant\", \"Kwabenya Point 1\", \"Beef burger\", 45)\n",
    "meal6 = Supper(\"Blossom Restaurant\", \"Kwabenya Point 1\", \"Grilled fish with chips\", 60)\n"
   ]
  },
  {
   "cell_type": "code",
   "execution_count": 3,
   "id": "27900e7d",
   "metadata": {},
   "outputs": [],
   "source": [
    "class MenuItem:\n",
    "    def __init__(self, name, description, price):\n",
    "        self.name = name\n",
    "        self.description = description\n",
    "        self.price = price\n",
    "\n",
    "class Menu:\n",
    "    def __init__(self):\n",
    "        self.items = []\n",
    "\n",
    "    def add_item(self, item):\n",
    "        self.items.append(item)\n",
    "\n",
    "    def remove_item(self, item):\n",
    "        self.items.remove(item)\n",
    "\n",
    "    def get_items(self):\n",
    "        return self.items\n",
    "\n",
    "class Order:\n",
    "    def __init__(self):\n",
    "        self.items = []\n",
    "\n",
    "    def add_item(self, item):\n",
    "        self.items.append(item)\n",
    "\n",
    "    def remove_item(self, item):\n",
    "        self.items.remove(item)\n",
    "\n",
    "    def get_items(self):\n",
    "        return self.items\n",
    "\n",
    "class Restaurant:\n",
    "    def __init__(self, name, menu):\n",
    "        self.name = name\n",
    "        self.menu = menu\n",
    "\n",
    "    def get_menu(self):\n",
    "        return self.menu.get_items()\n",
    "\n",
    "    def place_order(self, order):\n",
    "        total = 0\n",
    "        for item in order.get_items():\n",
    "            total += item.price\n",
    "        print(f\"Total cost: {total}\")\n"
   ]
  },
  {
   "cell_type": "code",
   "execution_count": 4,
   "id": "e0b84afc",
   "metadata": {},
   "outputs": [],
   "source": [
    "\n",
    "# Example usage:\n",
    "\n",
    "# Create menu items\n",
    "pizza = MenuItem(\"Pizza\", \"Delicious cheese pizza\", 10.99)\n",
    "pasta = MenuItem(\"Pasta\", \"Penne with marinara sauce\", 8.99)\n",
    "salad = MenuItem(\"Salad\", \"Caesar salad with chicken\", 6.99)\n"
   ]
  },
  {
   "cell_type": "code",
   "execution_count": 5,
   "id": "62972d2b",
   "metadata": {},
   "outputs": [],
   "source": [
    "# Create restaurant\n",
    "restaurant = Restaurant(\"Mario's\", menu)\n"
   ]
  },
  {
   "cell_type": "code",
   "execution_count": 6,
   "id": "7a80faa3",
   "metadata": {},
   "outputs": [],
   "source": [
    "# Create menu\n",
    "menu = Menu()\n",
    "menu.add_item(pizza)\n",
    "menu.add_item(pasta)\n",
    "menu.add_item(salad)"
   ]
  },
  {
   "cell_type": "code",
   "execution_count": 7,
   "id": "fa9ad241",
   "metadata": {},
   "outputs": [],
   "source": [
    "# Create restaurant\n",
    "restaurant = Restaurant(\"Mario's\", menu)"
   ]
  },
  {
   "cell_type": "code",
   "execution_count": 8,
   "id": "faba95c6",
   "metadata": {},
   "outputs": [],
   "source": [
    "#Create order\n",
    "order = Order()\n",
    "order.add_item(pizza)\n",
    "order.add_item(salad)\n"
   ]
  },
  {
   "cell_type": "code",
   "execution_count": 9,
   "id": "2de4e594",
   "metadata": {},
   "outputs": [
    {
     "name": "stdout",
     "output_type": "stream",
     "text": [
      "Total cost: 17.98\n"
     ]
    }
   ],
   "source": [
    "# Place order\n",
    "restaurant.place_order(order)\n"
   ]
  },
  {
   "cell_type": "code",
   "execution_count": 13,
   "id": "623b8257",
   "metadata": {},
   "outputs": [
    {
     "ename": "TypeError",
     "evalue": "'Order' object is not callable",
     "output_type": "error",
     "traceback": [
      "\u001b[1;31m---------------------------------------------------------------------------\u001b[0m",
      "\u001b[1;31mTypeError\u001b[0m                                 Traceback (most recent call last)",
      "\u001b[1;32m~\\AppData\\Local\\Temp\\ipykernel_31212\\2079483442.py\u001b[0m in \u001b[0;36m<module>\u001b[1;34m\u001b[0m\n\u001b[0;32m      1\u001b[0m \u001b[1;32mif\u001b[0m \u001b[0m__name__\u001b[0m \u001b[1;33m==\u001b[0m \u001b[1;34m\"__main__\"\u001b[0m\u001b[1;33m:\u001b[0m\u001b[1;33m\u001b[0m\u001b[1;33m\u001b[0m\u001b[0m\n\u001b[1;32m----> 2\u001b[1;33m     \u001b[0morder\u001b[0m\u001b[1;33m(\u001b[0m\u001b[1;33m)\u001b[0m\u001b[1;33m\u001b[0m\u001b[1;33m\u001b[0m\u001b[0m\n\u001b[0m",
      "\u001b[1;31mTypeError\u001b[0m: 'Order' object is not callable"
     ]
    }
   ],
   "source": [
    "if __name__ == \"__main__\":\n",
    "    order()\n"
   ]
  },
  {
   "cell_type": "code",
   "execution_count": null,
   "id": "64bcf994",
   "metadata": {},
   "outputs": [],
   "source": []
  },
  {
   "cell_type": "code",
   "execution_count": 14,
   "id": "b2b785d7",
   "metadata": {},
   "outputs": [],
   "source": [
    "class Restaurant:\n",
    "    def _init_(self, name, location, menu):\n",
    "        self.name = name\n",
    "        self.location = location\n",
    "        self.menu = menu\n",
    "\n",
    "    def get_name(self):\n",
    "        return self.name\n",
    "\n",
    "    def get_location(self):\n",
    "        return self.location\n",
    "\n",
    "    def get_menu(self):\n",
    "        return self.menu\n",
    "\n",
    "\n",
    "class FoodFinder():\n",
    "    def _init_(self):\n",
    "        self.restaurants = [\n",
    "            Restaurant(\"McDonald's\", \"New York\", {\"Hamburger\": \"$2.99\", \"Cheeseburger\": \"$3.49\", \"Fries\": \"$1.99\"}),\n",
    "            Restaurant(\"Burger King\", \"New York\", {\"Whopper\": \"$5.99\", \"Cheeseburger\": \"$4.49\", \"Onion Rings\": \"$2.99\"}),\n",
    "            Restaurant(\"Pizza Hut\", \"New York\", {\"Pepperoni Pizza\": \"$10.99\", \"Cheese Pizza\": \"$8.99\", \"Garlic Bread\": \"$3.99\"}),\n",
    "            Restaurant(\"Taco Bell\", \"New York\", {\"Taco\": \"$1.99\", \"Burrito\": \"$3.99\", \"Nachos\": \"$2.99\"})\n",
    "        ]\n",
    "\n",
    "    def find_restaurants(self, location, food_type):\n",
    "        print(\"Searching for restaurants near\", location, \"that serve\", food_type)\n",
    "\n",
    "        for restaurant in self.restaurants:\n",
    "            if restaurant.get_location() == location and food_type in restaurant.get_menu():\n",
    "                print(restaurant.get_name() + \":\", restaurant.get_menu()[food_type])"
   ]
  },
  {
   "cell_type": "code",
   "execution_count": 15,
   "id": "ee347db5",
   "metadata": {},
   "outputs": [
    {
     "name": "stdout",
     "output_type": "stream",
     "text": [
      "Enter location: New York\n",
      "Enter food type: Taco\n",
      "Searching for restaurants near New York that serve Taco\n"
     ]
    },
    {
     "ename": "AttributeError",
     "evalue": "'FoodFinder' object has no attribute 'restaurants'",
     "output_type": "error",
     "traceback": [
      "\u001b[1;31m---------------------------------------------------------------------------\u001b[0m",
      "\u001b[1;31mAttributeError\u001b[0m                            Traceback (most recent call last)",
      "\u001b[1;32m~\\AppData\\Local\\Temp\\ipykernel_31212\\56274258.py\u001b[0m in \u001b[0;36m<module>\u001b[1;34m\u001b[0m\n\u001b[0;32m      3\u001b[0m \u001b[0mlocation\u001b[0m \u001b[1;33m=\u001b[0m \u001b[0minput\u001b[0m\u001b[1;33m(\u001b[0m\u001b[1;34m\"Enter location: \"\u001b[0m\u001b[1;33m)\u001b[0m\u001b[1;33m\u001b[0m\u001b[1;33m\u001b[0m\u001b[0m\n\u001b[0;32m      4\u001b[0m \u001b[0mfood_type\u001b[0m \u001b[1;33m=\u001b[0m \u001b[0minput\u001b[0m\u001b[1;33m(\u001b[0m\u001b[1;34m\"Enter food type: \"\u001b[0m\u001b[1;33m)\u001b[0m\u001b[1;33m\u001b[0m\u001b[1;33m\u001b[0m\u001b[0m\n\u001b[1;32m----> 5\u001b[1;33m \u001b[0mfood_finder\u001b[0m\u001b[1;33m.\u001b[0m\u001b[0mfind_restaurants\u001b[0m\u001b[1;33m(\u001b[0m\u001b[0mlocation\u001b[0m\u001b[1;33m,\u001b[0m \u001b[0mfood_type\u001b[0m\u001b[1;33m)\u001b[0m\u001b[1;33m\u001b[0m\u001b[1;33m\u001b[0m\u001b[0m\n\u001b[0m",
      "\u001b[1;32m~\\AppData\\Local\\Temp\\ipykernel_31212\\205196524.py\u001b[0m in \u001b[0;36mfind_restaurants\u001b[1;34m(self, location, food_type)\u001b[0m\n\u001b[0;32m     27\u001b[0m         \u001b[0mprint\u001b[0m\u001b[1;33m(\u001b[0m\u001b[1;34m\"Searching for restaurants near\"\u001b[0m\u001b[1;33m,\u001b[0m \u001b[0mlocation\u001b[0m\u001b[1;33m,\u001b[0m \u001b[1;34m\"that serve\"\u001b[0m\u001b[1;33m,\u001b[0m \u001b[0mfood_type\u001b[0m\u001b[1;33m)\u001b[0m\u001b[1;33m\u001b[0m\u001b[1;33m\u001b[0m\u001b[0m\n\u001b[0;32m     28\u001b[0m \u001b[1;33m\u001b[0m\u001b[0m\n\u001b[1;32m---> 29\u001b[1;33m         \u001b[1;32mfor\u001b[0m \u001b[0mrestaurant\u001b[0m \u001b[1;32min\u001b[0m \u001b[0mself\u001b[0m\u001b[1;33m.\u001b[0m\u001b[0mrestaurants\u001b[0m\u001b[1;33m:\u001b[0m\u001b[1;33m\u001b[0m\u001b[1;33m\u001b[0m\u001b[0m\n\u001b[0m\u001b[0;32m     30\u001b[0m             \u001b[1;32mif\u001b[0m \u001b[0mrestaurant\u001b[0m\u001b[1;33m.\u001b[0m\u001b[0mget_location\u001b[0m\u001b[1;33m(\u001b[0m\u001b[1;33m)\u001b[0m \u001b[1;33m==\u001b[0m \u001b[0mlocation\u001b[0m \u001b[1;32mand\u001b[0m \u001b[0mfood_type\u001b[0m \u001b[1;32min\u001b[0m \u001b[0mrestaurant\u001b[0m\u001b[1;33m.\u001b[0m\u001b[0mget_menu\u001b[0m\u001b[1;33m(\u001b[0m\u001b[1;33m)\u001b[0m\u001b[1;33m:\u001b[0m\u001b[1;33m\u001b[0m\u001b[1;33m\u001b[0m\u001b[0m\n\u001b[0;32m     31\u001b[0m                 \u001b[0mprint\u001b[0m\u001b[1;33m(\u001b[0m\u001b[0mrestaurant\u001b[0m\u001b[1;33m.\u001b[0m\u001b[0mget_name\u001b[0m\u001b[1;33m(\u001b[0m\u001b[1;33m)\u001b[0m \u001b[1;33m+\u001b[0m \u001b[1;34m\":\"\u001b[0m\u001b[1;33m,\u001b[0m \u001b[0mrestaurant\u001b[0m\u001b[1;33m.\u001b[0m\u001b[0mget_menu\u001b[0m\u001b[1;33m(\u001b[0m\u001b[1;33m)\u001b[0m\u001b[1;33m[\u001b[0m\u001b[0mfood_type\u001b[0m\u001b[1;33m]\u001b[0m\u001b[1;33m)\u001b[0m\u001b[1;33m\u001b[0m\u001b[1;33m\u001b[0m\u001b[0m\n",
      "\u001b[1;31mAttributeError\u001b[0m: 'FoodFinder' object has no attribute 'restaurants'"
     ]
    }
   ],
   "source": [
    "food_finder = FoodFinder()\n",
    "\n",
    "location = input(\"Enter location: \")\n",
    "food_type = input(\"Enter food type: \")\n",
    "food_finder.find_restaurants(location, food_type)"
   ]
  },
  {
   "cell_type": "code",
   "execution_count": null,
   "id": "dbebb224",
   "metadata": {},
   "outputs": [],
   "source": []
  }
 ],
 "metadata": {
  "kernelspec": {
   "display_name": "Python 3 (ipykernel)",
   "language": "python",
   "name": "python3"
  },
  "language_info": {
   "codemirror_mode": {
    "name": "ipython",
    "version": 3
   },
   "file_extension": ".py",
   "mimetype": "text/x-python",
   "name": "python",
   "nbconvert_exporter": "python",
   "pygments_lexer": "ipython3",
   "version": "3.9.13"
  }
 },
 "nbformat": 4,
 "nbformat_minor": 5
}
