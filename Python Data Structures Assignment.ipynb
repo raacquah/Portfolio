{
 "cells": [
  {
   "cell_type": "markdown",
   "id": "3c2e90df",
   "metadata": {},
   "source": [
    "### Q1\n",
    "\n",
    "Name the four built-in data structures in python. Give one examples for each"
   ]
  },
  {
   "cell_type": "markdown",
   "id": "5a84f744",
   "metadata": {},
   "source": [
    "* List\n",
    "* Set\n",
    "* Tuple\n",
    "* Dictionary"
   ]
  },
  {
   "cell_type": "markdown",
   "id": "b6e1dd1b",
   "metadata": {},
   "source": [
    "### Q2\n",
    "\n",
    "State two differences between a list and a tuple in Python.\n",
    "* A list uses the brackets whereas a tuple uses the curly braces\n",
    "* A list is mutable whereas a tuple is immutable"
   ]
  },
  {
   "cell_type": "markdown",
   "id": "815b4e67",
   "metadata": {},
   "source": [
    "### Q3\n",
    "Make a list containing names of five animals with a variable name `animal_list`\n",
    "\n",
    "Write a code for the following:\n",
    "- Print the first two animals\n",
    "- Print the last two animals\n",
    "- Add three extra animals to the variable `animal_list`\n",
    "- Remove the first two animals from the variable `animal_list`\n",
    "- How many animals are in the `animal_list`?\n",
    "- Create a variable animal_set which stores the set of animal_list \n",
    "- How many elements are in the animal_set?"
   ]
  },
  {
   "cell_type": "code",
   "execution_count": 11,
   "id": "376ec923",
   "metadata": {},
   "outputs": [
    {
     "name": "stdout",
     "output_type": "stream",
     "text": [
      "['crocodile', 'fish']\n",
      "['lion', 'bee']\n",
      "['crocodile', 'fish', 'fowl', 'lion', 'bee', 'goat', 'turtle', 'dog']\n",
      "['fowl', 'lion', 'bee', 'goat', 'turtle', 'dog']\n",
      "6 animals are in the animal_set\n",
      "{'lion', 'fowl', 'goat', 'bee', 'dog', 'turtle'}\n",
      "6 elements are in the animal_set\n"
     ]
    }
   ],
   "source": [
    "# first two animals on the list\n",
    "animal_list = [\"crocodile\", \"fish\", \"fowl\", \"lion\", \"bee\"]\n",
    "print (animal_list[0:2])\n",
    "\n",
    "# last two animals on the list\n",
    "print(animal_list[-2:])\n",
    "\n",
    "# Three extra animals to `animal_list`\n",
    "animal_list.extend([\"goat\", \"turtle\", \"dog\"])\n",
    "print(animal_list)\n",
    "\n",
    "# Removing the first two animals from the variable `animal_list`\n",
    "animal_list = animal_list[2:]\n",
    "print(animal_list)\n",
    "\n",
    "# number of elements in animal_list\n",
    "print(f'{len(animal_list)} animals are in the animal_set')\n",
    "\n",
    "#Creating a variable that saves animal_list as a set\n",
    "animal_set = set(animal_list)\n",
    "print(animal_set)\n",
    "\n",
    "# checking the number of elements in the animal_set\n",
    "print(f'{len(animal_set)} elements are in the animal_set')"
   ]
  },
  {
   "cell_type": "markdown",
   "id": "113c9970",
   "metadata": {},
   "source": [
    "### Q4\n",
    "\n",
    "Given a list:\n",
    "\n",
    "suitcase = [\"sunglasses\", \"hat\", \"passport\", \"laptop\", \"suit\", \"shoes\"]\n",
    "\n",
    "a. Create a list called first containing only the two first items from suitcase.\n",
    "\n",
    "b. Create a list called middle containing only the two middle items from suitcase.\n",
    "\n",
    "c. Create a list called last made up only of the last two items from suitcase."
   ]
  },
  {
   "cell_type": "code",
   "execution_count": 29,
   "id": "d76da575",
   "metadata": {},
   "outputs": [
    {
     "name": "stdout",
     "output_type": "stream",
     "text": [
      "['sunglasses', 'hat']\n"
     ]
    }
   ],
   "source": [
    "suitcase = [\"sunglasses\", \"hat\", \"passport\", \"laptop\", \"suit\", \"shoes\"]\n",
    "first = suitcase [:2]\n",
    "print(first)"
   ]
  },
  {
   "cell_type": "code",
   "execution_count": 31,
   "id": "47701d7f",
   "metadata": {},
   "outputs": [
    {
     "name": "stdout",
     "output_type": "stream",
     "text": [
      "['passport', 'laptop']\n"
     ]
    }
   ],
   "source": [
    "middle = suitcase [2:4]\n",
    "print(middle)"
   ]
  },
  {
   "cell_type": "code",
   "execution_count": 34,
   "id": "0460ebd5",
   "metadata": {},
   "outputs": [
    {
     "name": "stdout",
     "output_type": "stream",
     "text": [
      "['suit', 'shoes']\n"
     ]
    }
   ],
   "source": [
    "last = suitcase [-2:]\n",
    "print(last)"
   ]
  },
  {
   "cell_type": "markdown",
   "id": "711ba044",
   "metadata": {},
   "source": [
    "### Q5\n",
    "Write a python code to insert 35 into the list below. Make sure it is inserted in the right position to maintain the order of the data.\n",
    "\n",
    "`values = [20,25,30,40,45,50,55,60,65,70]`"
   ]
  },
  {
   "cell_type": "code",
   "execution_count": 80,
   "id": "8d3bef56",
   "metadata": {},
   "outputs": [
    {
     "name": "stdout",
     "output_type": "stream",
     "text": [
      "[20, 25, 30, 35, 40, 45, 50, 55, 60, 65, 70]\n"
     ]
    }
   ],
   "source": [
    "# insert at index 3; insert 35\n",
    "values = [20,25,30,40,45,50,55,60,65,70]\n",
    "values.insert(3, 35)\n",
    "print(values)"
   ]
  },
  {
   "cell_type": "markdown",
   "id": "f535cf64",
   "metadata": {},
   "source": [
    "### Q6\n",
    "\n",
    "Given that Python lists and Python tuples are quite similar – when might you prefer to use a tuple over a list?\n",
    "- Tuple is preferred when I know the exact items that are expected to be in the group of elements, while a list is used when I want my group to contain elements whose positions, when varied, would not make the data invalid"
   ]
  },
  {
   "cell_type": "markdown",
   "id": "346927f6",
   "metadata": {},
   "source": [
    "### Q7\n",
    "Create a dictionary with 5 Ghana regions and their capitals and store it in the variable `region_capital`\n",
    "\n",
    "- Print out the keys of region_capital\n",
    "- Print out the values of region_capital\n"
   ]
  },
  {
   "cell_type": "code",
   "execution_count": 117,
   "id": "ed30cdb8",
   "metadata": {},
   "outputs": [
    {
     "name": "stdout",
     "output_type": "stream",
     "text": [
      "The keys are dict_keys(['Central', 'Eastern', 'North East', 'Greater Accra'])\n",
      "The values are dict_values(['Cape Coast', 'Koforidua', 'Nalerigu', 'Accra'])\n"
     ]
    }
   ],
   "source": [
    "region_capital = {\"Central\": \"Cape Coast\", \"Eastern\": \"Koforidua\", \"North East\": \"Nalerigu\", \"Greater Accra\": \"Accra\"}\n",
    "print(\"The keys are\", region_capital.keys())\n",
    "print(\"The values are\", region_capital.values())"
   ]
  },
  {
   "cell_type": "markdown",
   "id": "70526b3b",
   "metadata": {},
   "source": [
    "### Q8\n",
    "\n",
    "`values = [3,4,5,6,3,4,3,5,2,4,2,5,6,1,6]`\n",
    "\n",
    "Using the codes above answer the following questions:\n",
    "- What is the total number of elements in values?\n",
    "- What is the highest occuring number in the values variable?\n",
    "- Convert values into a set and store it into a variable named `values_set`\n",
    "- How many elements are in the variable values_set?\n"
   ]
  },
  {
   "cell_type": "code",
   "execution_count": 15,
   "id": "eb2a1268",
   "metadata": {},
   "outputs": [
    {
     "name": "stdout",
     "output_type": "stream",
     "text": [
      "The number of elements in values is 16\n",
      "The highest occuring number is 3\n"
     ]
    }
   ],
   "source": [
    "values = [3,4,5,6,3,4,3,5,2,4,2,5,6,1,6,3]\n",
    "print (\"The number of elements in values is\", len(values))\n",
    "\n",
    "num_times = {}\n",
    "mode = None\n",
    "\n",
    "for number in values:\n",
    "    if number in num_times:\n",
    "        num_times[number] += 1\n",
    "    else:\n",
    "        num_times[number] = 1\n",
    "maximum_num_times = max(num_times.values())\n",
    "for key, value in num_times.items():\n",
    "    if value == maximum_num_times:\n",
    "        mode = key\n",
    "print(\"The highest occuring number is\", mode)"
   ]
  },
  {
   "cell_type": "markdown",
   "id": "801d5876",
   "metadata": {},
   "source": [
    "### Q9\n",
    "Write a Python script to print a dictionary where the keys are numbers between 1 and 15 (both included) and the values are the square of the keys."
   ]
  },
  {
   "cell_type": "code",
   "execution_count": 92,
   "id": "79ec3f7f",
   "metadata": {},
   "outputs": [
    {
     "name": "stdout",
     "output_type": "stream",
     "text": [
      "{1: 1, 2: 4, 3: 9, 4: 16, 5: 25, 6: 36, 7: 49, 8: 64, 9: 81, 10: 100, 11: 121, 12: 144, 13: 169, 14: 196, 15: 225}\n"
     ]
    }
   ],
   "source": [
    "squares_dict = {}\n",
    "for num in range(1, 16):\n",
    "    squares_dict[num] = num**2\n",
    "\n",
    "print(squares_dict)"
   ]
  },
  {
   "cell_type": "markdown",
   "id": "18954e57",
   "metadata": {},
   "source": [
    "### Q10\n",
    "Write a Python program to create a dictionary of keys x, y, and z where each key has as value a list from 11-20, 21-30, and 31-40 respectively. Access the fifth value of each key from the dictionary."
   ]
  },
  {
   "cell_type": "code",
   "execution_count": 104,
   "id": "fec19820",
   "metadata": {},
   "outputs": [
    {
     "name": "stdout",
     "output_type": "stream",
     "text": [
      "The fifth value of key x is 15\n",
      "The fifth value of key y is 25\n",
      "The fifth value of key z is 35\n"
     ]
    }
   ],
   "source": [
    "dict = {'x': list(range(11, 21)), 'y': list(range(21, 31)), 'z': list(range(31, 41))}\n",
    "           \n",
    "x_5th = dict['x'][4]\n",
    "y_5th = dict['y'][4]\n",
    "z_5th = dict['z'][4]\n",
    "\n",
    "print(f\"The fifth value of key x is {x_5th}\")\n",
    "print(f\"The fifth value of key y is {y_5th}\")\n",
    "print(f\"The fifth value of key z is {z_5th}\")"
   ]
  }
 ],
 "metadata": {
  "kernelspec": {
   "display_name": "Python 3 (ipykernel)",
   "language": "python",
   "name": "python3"
  },
  "language_info": {
   "codemirror_mode": {
    "name": "ipython",
    "version": 3
   },
   "file_extension": ".py",
   "mimetype": "text/x-python",
   "name": "python",
   "nbconvert_exporter": "python",
   "pygments_lexer": "ipython3",
   "version": "3.9.13"
  }
 },
 "nbformat": 4,
 "nbformat_minor": 5
}
